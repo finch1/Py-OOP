{
 "cells": [
  {
   "attachments": {},
   "cell_type": "markdown",
   "metadata": {},
   "source": [
    "**OOP** provides a means of structuting programs so that **properties** and **behaviours** are bundled into individual **objects**.     \n",
    "An *object* could represent a *person* with *properties* like *name*, *age*, and *address* and *behaviours*(methods) such as *walking*, *talking* and *running*. Or represent an *email* with *properties* like a *recipient list*, *subject* and *body* and *behaviours* like *adding attachments* and *sending*.      \n",
    "OOP models real-world entities as software objects that have some data or relationships associated with them and can perform certain functions.     \n",
    "\n",
    "**Procedural programming** structures a program like a recipe in that it provides a set of stepps in the form of functions and code blocks, that flow sequentially in order to complete a task.\n",
    "\n",
    "While a class is the **blueprint**, an **instance** is an object that is built from a class and contains real data. An instance of the actual Dog with names like Miles and age 4. Custom objects are mutable by default. An object is mutable if it can be altered dynamically. Lists and dicts are **mutable**, but strings and tuples are **immutable**.\n",
    "\n",
    "Refer to Fig A and Fig B."
   ]
  },
  {
   "attachments": {},
   "cell_type": "markdown",
   "metadata": {},
   "source": [
    "Note in life stuff that pip package version and python version make a difference."
   ]
  },
  {
   "attachments": {},
   "cell_type": "markdown",
   "metadata": {},
   "source": [
    "# Defining a class"
   ]
  },
  {
   "cell_type": "code",
   "execution_count": 23,
   "metadata": {},
   "outputs": [],
   "source": [
    "# A class is Defined by class keyword followed by the name and colon.\n",
    "# Any code indented below is considered part of the class's body\n",
    "# class name convention JackRussleTerrier\n",
    "\n",
    "class Dog:\n",
    "\n",
    "# The properties which all Dog objects must have are definied in a method called .__init__()\n",
    "# Every time a new Dog object is created, .__init__() sets the initial state of the object by assigning the values of the object's properties\n",
    "# i.e. .__init__() initializes each new instance of the class.\n",
    "# .__init__() takes any number of parameters, but the first will always be a variable called self.\n",
    "# When a new class instance is created, the instance is automatically passed to the self parameter in .__init__() so that new attributes can be defined on the object.\n",
    "\n",
    "    # class attributes are attributes outside of .__init__() that have the same value for all class instances. \n",
    "    # class attrs are defined directly beneath the first line of the class name and must always be assigned an initial value\n",
    "    # When a new class instance is created, class attrs are automatically created and assigned to their initial values.\n",
    "    # This information can be changed for each instanciated class.\n",
    "    species = \"Canis familiaris\"\n",
    "\n",
    "    # Use class attrs to define properties that should have the same value for every class instance.\n",
    "    # Use instance attrs for properties which vary from one instance to another\n",
    "    \n",
    "    def __init__(self, name, age) -> None:\n",
    "        # Attributes created in .__init__() are called instance attributes.        \n",
    "        self.name = name # creates an attribute called name and assigns to it the value of the name parameter\n",
    "        self.age = age\n",
    "        \n",
    "    # Instance methods are functions that are defined inside a class and can only be called from an instance of that class\n",
    "    # The first parameter is always self.\n",
    "    def description(self):\n",
    "        return f\"{self.name} is {self.age} years old\"\n",
    "\n",
    "    # parameters within the method, do not need self.\n",
    "    def speak(self, sound):\n",
    "        return f\"{self.name} barks {sound}\"\n",
    "\n",
    "    # we can specify what is returned (such as description) when we print the instance\n",
    "    # these are called dunder methods cause they start and end with __\n",
    "    def __str__(self) -> str:\n",
    "        return f\"{self.name} is {self.age} years old\""
   ]
  },
  {
   "attachments": {},
   "cell_type": "markdown",
   "metadata": {},
   "source": [
    "# Instanciating a class"
   ]
  },
  {
   "cell_type": "code",
   "execution_count": 24,
   "metadata": {},
   "outputs": [
    {
     "name": "stdout",
     "output_type": "stream",
     "text": [
      "Buddy\n",
      "5\n",
      "Canis familiaris\n",
      "\n",
      "Mile\n",
      "10\n",
      "Canis familiaris\n",
      "\n",
      "Mile is 4 years old\n",
      "Miles barks Bau\n",
      "Miles is 10 years old\n"
     ]
    }
   ],
   "source": [
    "buddy = Dog(\"Buddy\", 4)\n",
    "miles = Dog(\"Miles\", 5)\n",
    "\n",
    "# After creating the Dog instances, we can access their instance attributes using dot notation\n",
    "print(buddy.name)\n",
    "print(miles.age)\n",
    "print(miles.species)\n",
    "print()\n",
    "\n",
    "# Although the attrs are guaranteed to exist, their values can be changed dynamically\n",
    "buddy.name = \"Mile\"\n",
    "miles.age = 10\n",
    "buddy.species = \"Felis Silvestris\"\n",
    "\n",
    "print(buddy.name)\n",
    "print(miles.age)\n",
    "print(miles.species)\n",
    "print()\n",
    "\n",
    "print(buddy.description())\n",
    "print(miles.speak(\"Bau\"))\n",
    "print(miles) # this is using __str__ method\n"
   ]
  },
  {
   "attachments": {},
   "cell_type": "markdown",
   "metadata": {},
   "source": [
    "# Constructors"
   ]
  },
  {
   "attachments": {},
   "cell_type": "markdown",
   "metadata": {},
   "source": [
    "Class constructors allow to create and properly initialize objects of a given class. Constructors intenally trigger Python's instantiation process which runs through two main steps: **instance creation** and **instance initialization**."
   ]
  },
  {
   "attachments": {},
   "cell_type": "markdown",
   "metadata": {},
   "source": [
    "When calling a class for the first time, ex. SomeClass(), the class constructor is called, which creates, initializes and returns a new object by triggering Python's internal instantiation process.       \n",
    "**Calling a class** isn't the same as **calling an instance of a class**. These are two different and unrelated topics. To make a class's instance callable, you need to implement a .__call__() special method, which has nothing to do with Python's instantiation process. "
   ]
  },
  {
   "cell_type": "code",
   "execution_count": 66,
   "metadata": {},
   "outputs": [
    {
     "data": {
      "text/plain": [
       "<__main__.SomeClass at 0x27b2b8bf040>"
      ]
     },
     "execution_count": 66,
     "metadata": {},
     "output_type": "execute_result"
    }
   ],
   "source": [
    "# To construct an object of a given class, you just need to call the class with appropriate arguments, as you would call any function:\n",
    "class SomeClass: # define a class\n",
    "    pass # this class is currently empty cause it doesn't have attributes or methods\n",
    "\n",
    "SomeClass() # create a new instance of SomeClass by calling the class with a pair of parentheses. No values passed as this class does not take any arguments."
   ]
  },
  {
   "cell_type": "code",
   "execution_count": 72,
   "metadata": {},
   "outputs": [
    {
     "name": "stdout",
     "output_type": "stream",
     "text": [
      "1. Create a new instance of Point.\n",
      "2. Initialize the new instance of Point.\n",
      "\n",
      "1. Create a new instance of Point.\n",
      "2. Initialize the new instance of Point.\n"
     ]
    },
    {
     "data": {
      "text/plain": [
       "Point(x=7, y=8)"
      ]
     },
     "execution_count": 72,
     "metadata": {},
     "output_type": "execute_result"
    }
   ],
   "source": [
    "class Point: # define the Point class\n",
    "    def __new__(cls, *args, **kwargs): # defines .__new__() method, which takes the class as its first argument. The method also takes *args and **kwargs to pass initialization args to instance\n",
    "        print(\"1. Create a new instance of Point.\")\n",
    "        return super().__new__(cls) # creates a new Point instance by calling parent class and the new instance is returned which will be the first argument to .__init__()\n",
    "\n",
    "    # Almost all classes will need a custom implementation of .__init__(). The purpose of this initialization step is to leave new objects in a valid state so that you can start using them right away in code.\n",
    "    def __init__(self, x, y) -> None: # initialization step, first argument holds a reference to the current instance. \n",
    "        print(\"2. Initialize the new instance of Point.\")\n",
    "        self.x = x # passing external values to instance reference\n",
    "        self.y = y\n",
    "\n",
    "    def __repr__(self) -> str: # string representation of Point class\n",
    "        return f\"{type(self).__name__}(x={self.x}, y={self.y})\"\n",
    "\n",
    "Point(5,6)\n",
    "print()\n",
    "# essentially, in the background\n",
    "point = Point.__new__(Point)\n",
    "# point.x # AttributeError: 'Point' object has no attribute 'x'\n",
    "point.__init__(7,8)\n",
    "point"
   ]
  },
  {
   "cell_type": "code",
   "execution_count": 1,
   "metadata": {},
   "outputs": [
    {
     "ename": "ValueError",
     "evalue": "positive width expected, got -5",
     "output_type": "error",
     "traceback": [
      "\u001b[1;31m---------------------------------------------------------------------------\u001b[0m",
      "\u001b[1;31mValueError\u001b[0m                                Traceback (most recent call last)",
      "Cell \u001b[1;32mIn[1], line 12\u001b[0m\n\u001b[0;32m      9\u001b[0m                 \u001b[39mraise\u001b[39;00m \u001b[39mValueError\u001b[39;00m(\u001b[39mf\u001b[39m\u001b[39m\"\u001b[39m\u001b[39mpositive width expected, got \u001b[39m\u001b[39m{\u001b[39;00mheight\u001b[39m}\u001b[39;00m\u001b[39m\"\u001b[39m)\n\u001b[0;32m     10\u001b[0m             \u001b[39mself\u001b[39m\u001b[39m.\u001b[39mheight \u001b[39m=\u001b[39m height\n\u001b[1;32m---> 12\u001b[0m Rectangle(\u001b[39m-\u001b[39;49m\u001b[39m5\u001b[39;49m, \u001b[39m9\u001b[39;49m)\n",
      "Cell \u001b[1;32mIn[1], line 5\u001b[0m, in \u001b[0;36mRectangle.__init__\u001b[1;34m(self, width, height)\u001b[0m\n\u001b[0;32m      3\u001b[0m \u001b[39mdef\u001b[39;00m \u001b[39m__init__\u001b[39m(\u001b[39mself\u001b[39m, width, height) \u001b[39m-\u001b[39m\u001b[39m>\u001b[39m \u001b[39mNone\u001b[39;00m:\n\u001b[0;32m      4\u001b[0m         \u001b[39mif\u001b[39;00m \u001b[39mnot\u001b[39;00m (\u001b[39misinstance\u001b[39m(width, (\u001b[39mint\u001b[39m, \u001b[39mfloat\u001b[39m)) \u001b[39mand\u001b[39;00m width \u001b[39m>\u001b[39m \u001b[39m0\u001b[39m):\n\u001b[1;32m----> 5\u001b[0m             \u001b[39mraise\u001b[39;00m \u001b[39mValueError\u001b[39;00m(\u001b[39mf\u001b[39m\u001b[39m\"\u001b[39m\u001b[39mpositive width expected, got \u001b[39m\u001b[39m{\u001b[39;00mwidth\u001b[39m}\u001b[39;00m\u001b[39m\"\u001b[39m)\n\u001b[0;32m      6\u001b[0m         \u001b[39mself\u001b[39m\u001b[39m.\u001b[39mwidth \u001b[39m=\u001b[39m width\n\u001b[0;32m      8\u001b[0m         \u001b[39mif\u001b[39;00m \u001b[39mnot\u001b[39;00m (\u001b[39misinstance\u001b[39m(height, (\u001b[39mint\u001b[39m, \u001b[39mfloat\u001b[39m)) \u001b[39mand\u001b[39;00m height \u001b[39m>\u001b[39m \u001b[39m0\u001b[39m):\n",
      "\u001b[1;31mValueError\u001b[0m: positive width expected, got -5"
     ]
    }
   ],
   "source": [
    "# In .__init__() we can run any transformation over the input ARGUMENTS to properly inisialize the INSTANCE ATTRIBUTES and validate the supplied values.\n",
    "class Rectangle:\n",
    "    def __init__(self, width, height) -> None:\n",
    "            if not (isinstance(width, (int, float)) and width > 0):\n",
    "                raise ValueError(f\"positive width expected, got {width}\")\n",
    "            self.width = width\n",
    "\n",
    "            if not (isinstance(height, (int, float)) and height > 0):\n",
    "                raise ValueError(f\"positive width expected, got {height}\")\n",
    "            self.height = height\n",
    "\n",
    "Rectangle(-5, 9)"
   ]
  },
  {
   "attachments": {},
   "cell_type": "markdown",
   "metadata": {},
   "source": [
    "# Inheritance"
   ]
  },
  {
   "attachments": {},
   "cell_type": "markdown",
   "metadata": {},
   "source": [
    "**Inheritance** models are called an **is a** relationship. A **Derived class inherets** from a **Base class**, creating a **Derives** is a spcialized version of **Base**.     \n",
    "**Derived** -> *extends* -> **Base**        \n",
    "- classes that inheret from another are called derived classes, subclasses, subtypes\n",
    "- classes from which other classes are derived are called base classes or super classes\n",
    "- a derived class is said to derive, inheret or extend a base class     \n",
    "\n",
    "The process by which one class takes on the attributes and methods of another. Newly formed classes are called **child classes**, and the classes that child classes are derived from are called **parent classes**.        \n",
    "While child classes inherit **all** of the the parent's **attributes and methods**, and can specify attributes and methods *unique* to themselves, child classes can **override or extend** the attributes and methods of parent classes.       \n",
    "We will create a child class for each breed of a dog to extend the functionality that each child class inherits, specifying a default argument for .speak() "
   ]
  },
  {
   "cell_type": "code",
   "execution_count": 28,
   "metadata": {},
   "outputs": [],
   "source": [
    "# Create a child class with its own name and then put the name of the parent class in parentheses.\n",
    "class JackRussellTerrier(Dog):\n",
    "\n",
    "    # providing a default value for the sound argument\n",
    "    # Override .speak() in the class definition using the same name\n",
    "    def speak(self, sound=\"JArf\"):\n",
    "        return f\"{self.name} says {sound}\"\n",
    "\n",
    "class Dachshund(Dog):\n",
    "    # If we want to keep the parent's method, still define a .speak() method on the child\n",
    "    # But instead call the Dog class's .speak() inside of the child class's .speak() using the same arguments that you passed to Dachshund.speak()\n",
    "    # Access the parent class from inside a method of a child class using super()\n",
    "    def speak(self, sound=\"DArf\"):\n",
    "        return super().speak(sound)\n",
    "\n",
    "class Bulldog(Dog):\n",
    "\n",
    "    def speak(self, sound=\"BArf\"):\n",
    "        return f\"{self.name} says {sound}\""
   ]
  },
  {
   "cell_type": "code",
   "execution_count": 29,
   "metadata": {},
   "outputs": [
    {
     "name": "stdout",
     "output_type": "stream",
     "text": [
      "Terry is 18 years old\n",
      "<class '__main__.Bulldog'>\n",
      "True\n",
      "True\n"
     ]
    }
   ],
   "source": [
    "# To determine which class a given object belongs to, use the built-in type()\n",
    "jim = Bulldog(\"Terry\", 18)\n",
    "duch = Dachshund(\"Debbie\", 8)\n",
    "print(jim)\n",
    "print(type(jim))\n",
    "print(isinstance(jim, Bulldog))\n",
    "print(isinstance(jim, Dog))"
   ]
  },
  {
   "cell_type": "code",
   "execution_count": 30,
   "metadata": {},
   "outputs": [
    {
     "name": "stdout",
     "output_type": "stream",
     "text": [
      "Terry says BArf\n",
      "Debbie barks DArf\n"
     ]
    }
   ],
   "source": [
    "print(jim.speak()) # different output than in parent\n",
    "print(duch.speak())"
   ]
  },
  {
   "attachments": {},
   "cell_type": "markdown",
   "metadata": {},
   "source": [
    "If the subclasses provide a .__init__() method, then this must explicitly call the base class's .__init__() method with appropriate arguments to ensure the correct initialization of instances **using the built in super() function**. "
   ]
  },
  {
   "cell_type": "code",
   "execution_count": 25,
   "metadata": {},
   "outputs": [
    {
     "name": "stdout",
     "output_type": "stream",
     "text": [
      "Name John Doe DOB 2001-02-07 Position Python Developer\n"
     ]
    }
   ],
   "source": [
    "class Person:\n",
    "    def __init__(self, name, dob) -> None:\n",
    "        self.name = name\n",
    "        self.dob = dob\n",
    "\n",
    "    def __str__(self):\n",
    "        return \"Name: {}, DOB: {}\".format(self.name, self.dob)\n",
    "\n",
    "class Employee(Person):\n",
    "    def __init__(self, name, dob, position) -> None:\n",
    "        super().__init__(name, dob)\n",
    "        self.position = position\n",
    "\n",
    "    def __str__(self):\n",
    "        text = super().__str__()\n",
    "        text += \", Positon: {}\".format(self.position)\n",
    "\n",
    "john = Employee(\"John Doe\", \"2001-02-07\", \"Python Developer\")     \n",
    "print(\"Name {0} DOB {1} Position {2}\".format(john.name, john.dob, john.position))   "
   ]
  },
  {
   "attachments": {},
   "cell_type": "markdown",
   "metadata": {},
   "source": [
    "# Composition"
   ]
  },
  {
   "attachments": {},
   "cell_type": "markdown",
   "metadata": {},
   "source": [
    "**Composition** models **has a** relationship. It enables creating complex types by combining objects of other types.       \n",
    "Composite -> Component\n",
    "The composite side can express the cardinality of the relationship. The cardinality indicates the number of valid range of Component instances the Composite class will contain. For example, a *Horse class* can be composed by another object of type *Tail class*. Composition enables reuse by adding objects to other objects as opposed to inheriting the interface and implementation of other classes. Both *Horse and Dog classes* can leverage the functionality of *Tail* through composition without deriving one class from another. Coposition allows relationships expressing *a Horse has a Tail*"
   ]
  },
  {
   "attachments": {},
   "cell_type": "markdown",
   "metadata": {},
   "source": [
    "# Getter and Setter methods"
   ]
  },
  {
   "attachments": {},
   "cell_type": "markdown",
   "metadata": {},
   "source": [
    "Attributes are variables accessed through the instance, the class or both. Attrs hold the internal state of objects. There are two ways to access and mutate this state:        \n",
    "1. Access and mutate the attribute **directly**. Users can change value whenever\n",
    "2. Use **methods** to access and mutate the attribute\n",
    "\n",
    "If attrs of class are exposed to users, these become **public** and are directly accessable ad mutable.     \n",
    "**Getter**: A method that allows to *access* an attribute in a given class.     \n",
    "**Setter**: A method that allows to *set or mutate* the value of an attribute in a given class.\n",
    "\n",
    "Attributes become non-public."
   ]
  },
  {
   "cell_type": "code",
   "execution_count": 31,
   "metadata": {},
   "outputs": [],
   "source": [
    "# The constructor of Label takes 2 args.\n",
    "# These args are stored in _ non-public instance attributes\n",
    "# get and set are defined for both attrs\n",
    "\n",
    "class Label:\n",
    "    def __init__(self, font, text) -> None:\n",
    "        self._text = text\n",
    "        self._font = font\n",
    "\n",
    "    def get_text(self):\n",
    "        return self._text\n",
    "\n",
    "    def set_text(self, value):\n",
    "        self._text = value\n",
    "\n",
    "    def get_font(self):\n",
    "        return self._font\n",
    "\n",
    "    def set_font(self, value):\n",
    "        self._font = value  "
   ]
  },
  {
   "cell_type": "code",
   "execution_count": 33,
   "metadata": {},
   "outputs": [
    {
     "name": "stdout",
     "output_type": "stream",
     "text": [
      "Times new roman\n",
      "Consolas\n"
     ]
    }
   ],
   "source": [
    "label = Label(\"Fruits\", \"Times new roman\")\n",
    "\n",
    "print(label.get_text())\n",
    "label.set_text(\"Consolas\")\n",
    "print(label.get_text())\n"
   ]
  },
  {
   "cell_type": "code",
   "execution_count": 42,
   "metadata": {},
   "outputs": [],
   "source": [
    "# Improved version of label\n",
    "class LabelImproved:\n",
    "    def __init__(self, text, font) -> None:\n",
    "        self.set_text(text)\n",
    "\n",
    "    def get_text(self):\n",
    "        return self._text\n",
    "\n",
    "    # setter transforms the input value\n",
    "    def set_text(self, value):\n",
    "        self._text = str(value).upper()"
   ]
  },
  {
   "cell_type": "code",
   "execution_count": 54,
   "metadata": {},
   "outputs": [
    {
     "name": "stdout",
     "output_type": "stream",
     "text": [
      "FRUITS\n",
      "FRUITS\n"
     ]
    }
   ],
   "source": [
    "newLabel = LabelImproved(\"Fruits\", \"Times new roman\")\n",
    "print(newLabel.get_text())\n",
    "print(newLabel._text) # still accessable but not convention"
   ]
  },
  {
   "attachments": {},
   "cell_type": "markdown",
   "metadata": {},
   "source": [
    "**Properties** pack together methods for get, set, delete and dcoumenting the underlying data.      \n",
    "Properties can be used in the same way of regular attributes. When accessing a property, its attached getter method is automatically called. Likewise, when the property is mutated, its setter method is called. This behaviour provides means to attach functionality to attrs without breaking code.\n",
    "\n",
    "**@property** makes class attribute as a methods and we can access it like an attribute."
   ]
  },
  {
   "cell_type": "code",
   "execution_count": 64,
   "metadata": {},
   "outputs": [],
   "source": [
    "from datetime import date\n",
    "\n",
    "class Employee:\n",
    "    def __init__(self, name, birthdate) -> None:\n",
    "        self._name = name\n",
    "        self._birthdate = birthdate\n",
    "\n",
    "    # get\n",
    "    @property # @property decorator\n",
    "    def name(self):\n",
    "        return self._name\n",
    "\n",
    "    # set\n",
    "    @name.setter\n",
    "    def name(self, value):\n",
    "        self._name = str(value).upper()\n",
    "\n",
    "    @property\n",
    "    def birthdate(self):\n",
    "        return self._birthdate\n",
    "\n",
    "    @birthdate.setter\n",
    "    def birthdate(self, value):\n",
    "        self._birthdate = date.fromisoformat(value)\n"
   ]
  },
  {
   "attachments": {},
   "cell_type": "markdown",
   "metadata": {},
   "source": [
    "We added **behaviour (manipulating functions)** to *name* and *birthdate* attributes without affecting external references. With properties, we gained ability to refer to these **attributes** as **regular attributes**. Python takes care of running the appropriate methods.\n",
    "> For simple public data attributes, it's best to expose just the attribute name, withoutcomplicated accessor/mutator methods. Keep in mind that Python provides an easy path to future enhancement, should a simple data attribute need to grow functional behaviour. Use properties to hide functional implementation behind simple data attribute access syntax."
   ]
  },
  {
   "cell_type": "code",
   "execution_count": 65,
   "metadata": {},
   "outputs": [
    {
     "name": "stdout",
     "output_type": "stream",
     "text": [
      "2022-12-28\n",
      "2021-12-28\n"
     ]
    }
   ],
   "source": [
    "emp = Employee(\"Jim\", \"2022-12-28\")\n",
    "\n",
    "print(emp.birthdate)\n",
    "emp.birthdate = \"2021-12-28\"\n",
    "print(emp.birthdate)"
   ]
  },
  {
   "attachments": {},
   "cell_type": "markdown",
   "metadata": {},
   "source": [
    "#### API Guidelines\n",
    "- Use **public attrs** whenever appropriate, even if you expect the attrs to require functional behaviour in the future\n",
    "- **Avoid** **set** and **get** methods, use properties\n",
    "- Use **properties** to **attach behavior** to attrs and keep using them as regular attrs in referencing code\n",
    "- Turning all attributes into properties will be a waste of time and also imply perf and maintain issues."
   ]
  },
  {
   "attachments": {},
   "cell_type": "markdown",
   "metadata": {},
   "source": [
    "# Descriptors\n",
    "Advanced feature that allows creating attributes with attached behaviours in the class. To create a descriptor, use the **descriptor protocol**: __get__() and __set__()"
   ]
  },
  {
   "attachments": {},
   "cell_type": "markdown",
   "metadata": {},
   "source": [
    "# Deciding whether to use Getter and Setter or Properties\n",
    "\n",
    "Get/Set may be better suited to:\n",
    "- **Run costly transformations** on attribute access or mutation is prefered over using properties.\n",
    "- **Inheritance** ; trying to override a property in a child class might break code. \n",
    "- Raise **exceptions** related to attrs access and mutation. Validating values in setter method is more explicit and clearly expresses the code's possible behaviour.\n",
    "- Facililtate integration in **heterogeneous** development **teams**; get/set is more common between languages then properties."
   ]
  },
  {
   "attachments": {},
   "cell_type": "markdown",
   "metadata": {},
   "source": [
    "# Functions"
   ]
  },
  {
   "attachments": {},
   "cell_type": "markdown",
   "metadata": {},
   "source": [
    "By convention, name a function using lower case with words serparated by underscore. It is best practice to name functions with verbs."
   ]
  },
  {
   "cell_type": "code",
   "execution_count": 77,
   "metadata": {},
   "outputs": [
    {
     "name": "stdout",
     "output_type": "stream",
     "text": [
      "of bread i need 1\n",
      "of milk i need 2\n",
      "of butter i need 3\n"
     ]
    }
   ],
   "source": [
    "# global variable defined in the global scope\n",
    "shopping_list = {\n",
    "    \"bread\":1,\n",
    "    \"milk\":2,\n",
    "    \"butter\":3\n",
    "}\n",
    "\n",
    "def show_list():\n",
    "    for item, count in shopping_list.items():\n",
    "        print(f\"of {item} i need {count}\")\n",
    "\n",
    "show_list()"
   ]
  },
  {
   "attachments": {},
   "cell_type": "markdown",
   "metadata": {},
   "source": [
    "The below func has two **parameters**: item and quantity, which are used in the function's code\n",
    "When calling the function, pass **arguments**."
   ]
  },
  {
   "cell_type": "code",
   "execution_count": 78,
   "metadata": {},
   "outputs": [
    {
     "name": "stdout",
     "output_type": "stream",
     "text": [
      "{'Coffe': 2}\n"
     ]
    }
   ],
   "source": [
    "shopping_list = {}\n",
    "\n",
    "def add_item(item, quantity):\n",
    "    if item in shopping_list.keys():\n",
    "        shopping_list[item] += quantity\n",
    "\n",
    "    else:\n",
    "        shopping_list[item] = quantity\n",
    "\n",
    "add_item(\"Coffee\", 2)\n",
    "\n",
    "print(shopping_list)"
   ]
  },
  {
   "attachments": {},
   "cell_type": "markdown",
   "metadata": {},
   "source": [
    "# Passing multiple arguments to a function\n",
    "*args and **kwargs allow passing multiple arguments to a function. *args accepts a sequence of values not in a list. *args takes all parameters that are provided and packs them into a single iterable object args.\n",
    "* is an unpacking operator"
   ]
  },
  {
   "cell_type": "code",
   "execution_count": 4,
   "metadata": {},
   "outputs": [
    {
     "data": {
      "text/plain": [
       "6"
      ]
     },
     "execution_count": 4,
     "metadata": {},
     "output_type": "execute_result"
    }
   ],
   "source": [
    "def my_sum(*args):\n",
    "    result = 0\n",
    "    for x in args:\n",
    "        result += x\n",
    "\n",
    "    return result\n",
    "\n",
    "my_sum(1,2,3)\n",
    "\n"
   ]
  },
  {
   "cell_type": "code",
   "execution_count": 5,
   "metadata": {},
   "outputs": [
    {
     "name": "stdout",
     "output_type": "stream",
     "text": [
      "<class 'tuple'>\n",
      "tuples are immutable while lists are mutable\n",
      "1 2 4\n"
     ]
    }
   ],
   "source": [
    "args = 1,2,4\n",
    "print(type(args))\n",
    "print(\"tuples are immutable while lists are mutable\")\n",
    "print(*args)"
   ]
  },
  {
   "attachments": {},
   "cell_type": "markdown",
   "metadata": {},
   "source": [
    "**kwargs functions like *args but accepts key word arguments. like args becomes a tuple, kwargs becomes a dictionary. ** is also an unpacking operator"
   ]
  },
  {
   "cell_type": "code",
   "execution_count": 13,
   "metadata": {},
   "outputs": [
    {
     "name": "stdout",
     "output_type": "stream",
     "text": [
      "{'a': 'Real ', 'b': 'Python ', 'c': 'Is Great!!!'}\n",
      "Real Python Is Great!!!\n"
     ]
    }
   ],
   "source": [
    "def concatenate(**kwargs):\n",
    "    print(kwargs)\n",
    "    \n",
    "    result = \"\"\n",
    "    # iterate over dictionary and return values, like we do with a dictionary\n",
    "    for x in kwargs.values():\n",
    "        result += x\n",
    "    return result\n",
    "\n",
    "print(concatenate(a=\"Real \", b=\"Python \", c=\"Is Great!!!\"))"
   ]
  },
  {
   "attachments": {},
   "cell_type": "markdown",
   "metadata": {},
   "source": [
    "A good example of args, kwargs and path are available in randGen.py"
   ]
  },
  {
   "attachments": {},
   "cell_type": "markdown",
   "metadata": {},
   "source": [
    "# Hiding API Key (away from code)"
   ]
  },
  {
   "cell_type": "code",
   "execution_count": null,
   "metadata": {},
   "outputs": [],
   "source": [
    "# in terminal type export KEY_MAME=[value] to store the key in path variables\n",
    "# export KEY_NAME=lfsdskfkdsdfdf\n",
    "# then in code\n",
    "import os\n",
    "api_key = os.getenv(\"KEY_NAME\")\n",
    "\n"
   ]
  },
  {
   "attachments": {},
   "cell_type": "markdown",
   "metadata": {},
   "source": [
    "# Class variable"
   ]
  },
  {
   "cell_type": "code",
   "execution_count": 22,
   "metadata": {},
   "outputs": [
    {
     "name": "stdout",
     "output_type": "stream",
     "text": [
      "1\n",
      "2\n",
      "memory address: <__main__.Person object at 0x000001FB7AF9EA00>\n"
     ]
    }
   ],
   "source": [
    "class Person:\n",
    "    # class variable\n",
    "    amount = 0\n",
    "\n",
    "    def __init__(self, name, age, height):\n",
    "        self.name = name\n",
    "        self.age = age\n",
    "        self.height = height\n",
    "        Person.amount += 1\n",
    "\n",
    "p1 = Person(\"Jo\", 56, 108)\n",
    "print(p1.amount)\n",
    "p2 = Person(\"Jo\", 56, 108)\n",
    "print(p1.amount)\n",
    "\n",
    "print(\"memory address: {0}\".format(p1)) # to show what happens without __str__"
   ]
  },
  {
   "attachments": {},
   "cell_type": "markdown",
   "metadata": {},
   "source": [
    "# __str__ Print the object"
   ]
  },
  {
   "cell_type": "code",
   "execution_count": 16,
   "metadata": {},
   "outputs": [
    {
     "name": "stdout",
     "output_type": "stream",
     "text": [
      "name: Jo, age: 56, height: 108\n"
     ]
    }
   ],
   "source": [
    "class Person:\n",
    "    def __init__(self, name, age, height):\n",
    "        self.name = name\n",
    "        self.age = age\n",
    "        self.height = height\n",
    "\n",
    "    def __str__(self):\n",
    "       return \"name: {}, age: {}, height: {}\".format(self.name, self.age, self.height)\n",
    "\n",
    "p = Person(\"Jo\", 56, 108)\n",
    "\n",
    "print(p)\n"
   ]
  },
  {
   "attachments": {},
   "cell_type": "markdown",
   "metadata": {},
   "source": [
    "# AsyncIO"
   ]
  },
  {
   "attachments": {},
   "cell_type": "markdown",
   "metadata": {},
   "source": [
    "**Parallelism** = performing multiple operations at the same time\n",
    "**Multiprocessing** = spreading tasks across CPU cores\n",
    "**Concurrency** = tasks overlapping each other\n",
    "**Threading** = one process contains multiple threads executing in sequence\n",
    "\n",
    "Threading is better for I/O bound tasks where the CPU has to wait.\n",
    "Concurrency encompasses Multiprocessing (ideal for CPU bound tasks) and Threading (for I/O bound tasks).\n",
    "\n",
    "async IO is **NOT Threading or Multiprocessing**. It is a single threaded single process design using **cooperative multitasking**. \n",
    "**Coroutines** can be scheduled concurrently but they are not inherently concurrent. A **coroutine** is a function that can suspend its execution before reaching return and it can pass control to another coroutine for some time. \n",
    "**Asynchronous** routines are able to pause while waiting for their ultimate result (blocking) while giving resources to other routines to execute.     \n",
    "\n",
    "**Threads** are to be limited in a thread pool as each thread consumes memory. Tasks in the other hand are just code waiting for a thread to pick one up and execute. We can therefore have many tasks. **Processes** (like MS Office applications) are different, such as, they cannot access each other's memory. Threads can. "
   ]
  },
  {
   "attachments": {},
   "cell_type": "markdown",
   "metadata": {},
   "source": [
    "> async = the syntax **async def** introduces either a **native coroutine** or an **asynchronous generator**. The expressions **async with** and **async for** are also valid expressions. The **async modifier** is used to specify that a method is asynchronous.       \n",
    "> await = **Wait until results are returned** - passes control back to the event loop, i.e. it suspends execution of the surrounding coroutine.         \n",
    "async def g():      \n",
    "^^^^^await f()\n",
    "\n",
    "*If python encounters an await f() expression in the scope of g(), this is how await tells the event loop: \"Suspend the execution of g() until the result of f() is returned. In the mean time, execute something else.*\n",
    "\n",
    "\n",
    "> asyncio.create_task()\n",
    "\n",
    "> asyncio.run() = responsible for the event loop, running tasks until they are marked as complete, and then closing the event loop. It's like a While True loop, managing slots where coroutines can execute.\n",
    ">> Coroutines do not do much on their own until they are tied to event loop.\n",
    ">> By default an async IO event loop runs on a single thread single core, which usually is more then sufficient. With some tweaks more cores can be included.\n",
    "\n",
    "> asyncio.gather() = gathers a number of functions to execute as coroutines \n",
    "> asyncio.to_thread()"
   ]
  },
  {
   "cell_type": "code",
   "execution_count": null,
   "metadata": {},
   "outputs": [],
   "source": [
    "import asyncio\n",
    "from time import perf_counter\n",
    "\n",
    "async def count():\n",
    "    print(\"one\")\n",
    "    await asyncio.sleep(1)\n",
    "    print(\"two\")\n",
    "\n",
    "async def main():\n",
    "    await asyncio.gather(count(), count())\n",
    "\n",
    "if __name__ == \"__main__\":\n",
    "    time_before = perf_counter()\n",
    "    asyncio.run(main())\n",
    "    print(f\"time taken = {perf_counter() - time_before}\")\n",
    "\n",
    "## OUTPUT - while the first function is asleep, the other one starts.\n",
    "# one\n",
    "# one\n",
    "# two\n",
    "# two"
   ]
  },
  {
   "attachments": {},
   "cell_type": "markdown",
   "metadata": {},
   "source": [
    "### Generate random number async"
   ]
  },
  {
   "cell_type": "code",
   "execution_count": null,
   "metadata": {},
   "outputs": [],
   "source": [
    "import asyncio, random\n",
    "\n",
    "# ANSI colors\n",
    "c = ( \"\\033[0m\", # End of color\n",
    "     \"\\033[36m\", # cyan\n",
    "     \"\\033[91m\", # red\n",
    "     \"\\033[35m\", # magenta\n",
    "    )\n",
    "\n",
    "async def makerandom(idx: int, threshold: int = 6) -> int:\n",
    "    print(c[idx +1] + f\"Initiated makerandom ({idx}).\")\n",
    "    i = random.randint(0, 10)\n",
    "    while i <= threshold:\n",
    "        print(c[idx +1] + f\"makerandom ({idx}) == {i} too low. retrying.\")\n",
    "        await asyncio.sleep(idx + 1)\n",
    "        i = random.randint(0, 10)\n",
    "\n",
    "    print(c[idx +1] + f\"Finished makerandom ({idx}) == {i}\" + c[0])\n",
    "    return i\n",
    "\n",
    "async def main():\n",
    "    res = await asyncio.gather(*(makerandom(i, 10 - i - 1) for i in range(3)))\n",
    "    return  res\n",
    "\n",
    "if __name__ == \"__main__\":\n",
    "    random.seed(444)\n",
    "    r1, r2, r3 = asyncio.run(main())\n",
    "    print()\n",
    "    print(f\"r1 {r1} r2 {r2} r2 {r3}\")\n",
    "\n"
   ]
  },
  {
   "attachments": {},
   "cell_type": "markdown",
   "metadata": {},
   "source": [
    "### Async Queue - Producer and Consumer"
   ]
  },
  {
   "cell_type": "code",
   "execution_count": null,
   "metadata": {},
   "outputs": [],
   "source": [
    "import asyncio, os, random, time, argparse\n",
    "\n",
    "async def makeitem(size: int = 5) -> str:\n",
    "    return os.urandom(size).hex()\n",
    "\n",
    "async def randomsleep(caller=None) -> None:\n",
    "    i = random.randint(0, 10)\n",
    "    if caller:\n",
    "        print(f\"caller {caller} sleeping for {i} seconds\")\n",
    "    await asyncio.sleep(i)\n",
    "\n",
    "async def produce(name: int, q: asyncio.Queue) -> None:\n",
    "    n = random.randint(0,10)\n",
    "    for _ in range(n):\n",
    "        await randomsleep(caller=f\"Producer {name}\")\n",
    "        i = await makeitem()\n",
    "        t = time.perf_counter()\n",
    "        await q.put((i,t))\n",
    "        print(f\"Producer {name} added <{i}> to queue\")\n",
    "\n",
    "async def consume(name: int, q: asyncio.Queue) -> None:\n",
    "    while True:\n",
    "        await randomsleep(caller=f\"Consumer {name}\")\n",
    "        i, t = await q.get()\n",
    "        now = time.perf_counter()\n",
    "        print(f\"Consumer {name} got element <{i}> in {now-t:0.5f} seconds\")\n",
    "        q.task_done()\n",
    "\n",
    "async def main(nprod: int, ncon: int):\n",
    "    q = asyncio.Queue()\n",
    "    producers = [asyncio.create_task(produce(n, q)) for n in range(nprod)]\n",
    "    consumers = [asyncio.create_task(consume(n, q)) for n in range(ncon)]\n",
    "    await asyncio.gather(*producers)\n",
    "    await q.join() # Implicitly awaits consumers too\n",
    "    for c in consumers:\n",
    "        c.cancel()\n",
    "\n",
    "if __name__ == \"__main__\":\n",
    "    random.seed(444)\n",
    "    parser = argparse.ArgumentParser()\n",
    "    parser.add_argument(\"-p\", \"--nprod\", type=int, default=5)\n",
    "    parser.add_argument(\"-c\", \"--ncon\", type=int, default=15)\n",
    "    ns = parser.parse_args()\n",
    "    start = time.perf_counter()\n",
    "    asyncio.run(main(**ns.__dict__))\n",
    "    elapsed = time.perf_counter() - start\n",
    "    print(f\"program completes in {elapsed:0.5f} seconds\")"
   ]
  },
  {
   "cell_type": "code",
   "execution_count": null,
   "metadata": {},
   "outputs": [],
   "source": []
  }
 ],
 "metadata": {
  "kernelspec": {
   "display_name": "Python 3",
   "language": "python",
   "name": "python3"
  },
  "language_info": {
   "codemirror_mode": {
    "name": "ipython",
    "version": 3
   },
   "file_extension": ".py",
   "mimetype": "text/x-python",
   "name": "python",
   "nbconvert_exporter": "python",
   "pygments_lexer": "ipython3",
   "version": "3.9.6"
  },
  "orig_nbformat": 4,
  "vscode": {
   "interpreter": {
    "hash": "375aac7530e8c831bb65c3879b007db700405b020969fd2f9eab2e4f4141ee0a"
   }
  }
 },
 "nbformat": 4,
 "nbformat_minor": 2
}
